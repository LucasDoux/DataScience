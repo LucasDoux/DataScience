{
 "cells": [
  {
   "cell_type": "markdown",
   "metadata": {},
   "source": [
    "### IMPORTANDO BIBLIOTECAS"
   ]
  },
  {
   "cell_type": "code",
   "execution_count": 75,
   "metadata": {},
   "outputs": [],
   "source": [
    "from sklearn.linear_model import LogisticRegression, RidgeClassifierCV, Perceptron\n",
    "from sklearn.tree import DecisionTreeClassifier\n",
    "from sklearn.ensemble import RandomForestClassifier\n",
    "from sklearn.model_selection import train_test_split, cross_val_score, cross_val_predict\n",
    "from sklearn.metrics import confusion_matrix\n",
    "from sklearn.manifold import TSNE\n",
    "\n",
    "from mpl_toolkits.mplot3d import Axes3D\n",
    "\n",
    "import pandas as pd\n",
    "import matplotlib.pyplot as plt\n",
    "\n",
    "import numpy as np"
   ]
  },
  {
   "cell_type": "markdown",
   "metadata": {},
   "source": [
    "### CARREGANDO DADOS"
   ]
  },
  {
   "cell_type": "code",
   "execution_count": 189,
   "metadata": {},
   "outputs": [
    {
     "data": {
      "text/html": [
       "<div>\n",
       "<style scoped>\n",
       "    .dataframe tbody tr th:only-of-type {\n",
       "        vertical-align: middle;\n",
       "    }\n",
       "\n",
       "    .dataframe tbody tr th {\n",
       "        vertical-align: top;\n",
       "    }\n",
       "\n",
       "    .dataframe thead th {\n",
       "        text-align: right;\n",
       "    }\n",
       "</style>\n",
       "<table border=\"1\" class=\"dataframe\">\n",
       "  <thead>\n",
       "    <tr style=\"text-align: right;\">\n",
       "      <th></th>\n",
       "      <th>Unnamed: 0</th>\n",
       "      <th>image_id</th>\n",
       "      <th>path</th>\n",
       "      <th>diag</th>\n",
       "      <th>target</th>\n",
       "      <th>Class</th>\n",
       "    </tr>\n",
       "  </thead>\n",
       "  <tbody>\n",
       "    <tr>\n",
       "      <th>2251</th>\n",
       "      <td>2251</td>\n",
       "      <td>Tumor- (782)</td>\n",
       "      <td>/content/data/CT KIDNEY DATASET Normal, CYST, ...</td>\n",
       "      <td>Tumor</td>\n",
       "      <td>3</td>\n",
       "      <td>Tumor</td>\n",
       "    </tr>\n",
       "    <tr>\n",
       "      <th>1161</th>\n",
       "      <td>1161</td>\n",
       "      <td>Tumor- (2019)</td>\n",
       "      <td>/content/data/CT KIDNEY DATASET Normal, CYST, ...</td>\n",
       "      <td>Tumor</td>\n",
       "      <td>3</td>\n",
       "      <td>Tumor</td>\n",
       "    </tr>\n",
       "    <tr>\n",
       "      <th>4242</th>\n",
       "      <td>4242</td>\n",
       "      <td>Normal- (1016)</td>\n",
       "      <td>/content/data/CT KIDNEY DATASET Normal, CYST, ...</td>\n",
       "      <td>Normal</td>\n",
       "      <td>1</td>\n",
       "      <td>Normal</td>\n",
       "    </tr>\n",
       "    <tr>\n",
       "      <th>8567</th>\n",
       "      <td>8567</td>\n",
       "      <td>Stone- (536)</td>\n",
       "      <td>/content/data/CT KIDNEY DATASET Normal, CYST, ...</td>\n",
       "      <td>Stone</td>\n",
       "      <td>2</td>\n",
       "      <td>Stone</td>\n",
       "    </tr>\n",
       "    <tr>\n",
       "      <th>1903</th>\n",
       "      <td>1903</td>\n",
       "      <td>Tumor- (666)</td>\n",
       "      <td>/content/data/CT KIDNEY DATASET Normal, CYST, ...</td>\n",
       "      <td>Tumor</td>\n",
       "      <td>3</td>\n",
       "      <td>Tumor</td>\n",
       "    </tr>\n",
       "    <tr>\n",
       "      <th>...</th>\n",
       "      <td>...</td>\n",
       "      <td>...</td>\n",
       "      <td>...</td>\n",
       "      <td>...</td>\n",
       "      <td>...</td>\n",
       "      <td>...</td>\n",
       "    </tr>\n",
       "    <tr>\n",
       "      <th>11663</th>\n",
       "      <td>11663</td>\n",
       "      <td>Cyst- (151)</td>\n",
       "      <td>/content/data/CT KIDNEY DATASET Normal, CYST, ...</td>\n",
       "      <td>Cyst</td>\n",
       "      <td>0</td>\n",
       "      <td>Cyst</td>\n",
       "    </tr>\n",
       "    <tr>\n",
       "      <th>7111</th>\n",
       "      <td>7111</td>\n",
       "      <td>Normal- (1197)</td>\n",
       "      <td>/content/data/CT KIDNEY DATASET Normal, CYST, ...</td>\n",
       "      <td>Normal</td>\n",
       "      <td>1</td>\n",
       "      <td>Normal</td>\n",
       "    </tr>\n",
       "    <tr>\n",
       "      <th>9890</th>\n",
       "      <td>9890</td>\n",
       "      <td>Cyst- (2910)</td>\n",
       "      <td>/content/data/CT KIDNEY DATASET Normal, CYST, ...</td>\n",
       "      <td>Cyst</td>\n",
       "      <td>0</td>\n",
       "      <td>Cyst</td>\n",
       "    </tr>\n",
       "    <tr>\n",
       "      <th>5928</th>\n",
       "      <td>5928</td>\n",
       "      <td>Normal- (1911)</td>\n",
       "      <td>/content/data/CT KIDNEY DATASET Normal, CYST, ...</td>\n",
       "      <td>Normal</td>\n",
       "      <td>1</td>\n",
       "      <td>Normal</td>\n",
       "    </tr>\n",
       "    <tr>\n",
       "      <th>6832</th>\n",
       "      <td>6832</td>\n",
       "      <td>Normal- (4131)</td>\n",
       "      <td>/content/data/CT KIDNEY DATASET Normal, CYST, ...</td>\n",
       "      <td>Normal</td>\n",
       "      <td>1</td>\n",
       "      <td>Normal</td>\n",
       "    </tr>\n",
       "  </tbody>\n",
       "</table>\n",
       "<p>12446 rows × 6 columns</p>\n",
       "</div>"
      ],
      "text/plain": [
       "       Unnamed: 0        image_id  \\\n",
       "2251         2251    Tumor- (782)   \n",
       "1161         1161   Tumor- (2019)   \n",
       "4242         4242  Normal- (1016)   \n",
       "8567         8567    Stone- (536)   \n",
       "1903         1903    Tumor- (666)   \n",
       "...           ...             ...   \n",
       "11663       11663     Cyst- (151)   \n",
       "7111         7111  Normal- (1197)   \n",
       "9890         9890    Cyst- (2910)   \n",
       "5928         5928  Normal- (1911)   \n",
       "6832         6832  Normal- (4131)   \n",
       "\n",
       "                                                    path    diag  target  \\\n",
       "2251   /content/data/CT KIDNEY DATASET Normal, CYST, ...   Tumor       3   \n",
       "1161   /content/data/CT KIDNEY DATASET Normal, CYST, ...   Tumor       3   \n",
       "4242   /content/data/CT KIDNEY DATASET Normal, CYST, ...  Normal       1   \n",
       "8567   /content/data/CT KIDNEY DATASET Normal, CYST, ...   Stone       2   \n",
       "1903   /content/data/CT KIDNEY DATASET Normal, CYST, ...   Tumor       3   \n",
       "...                                                  ...     ...     ...   \n",
       "11663  /content/data/CT KIDNEY DATASET Normal, CYST, ...    Cyst       0   \n",
       "7111   /content/data/CT KIDNEY DATASET Normal, CYST, ...  Normal       1   \n",
       "9890   /content/data/CT KIDNEY DATASET Normal, CYST, ...    Cyst       0   \n",
       "5928   /content/data/CT KIDNEY DATASET Normal, CYST, ...  Normal       1   \n",
       "6832   /content/data/CT KIDNEY DATASET Normal, CYST, ...  Normal       1   \n",
       "\n",
       "        Class  \n",
       "2251    Tumor  \n",
       "1161    Tumor  \n",
       "4242   Normal  \n",
       "8567    Stone  \n",
       "1903    Tumor  \n",
       "...       ...  \n",
       "11663    Cyst  \n",
       "7111   Normal  \n",
       "9890     Cyst  \n",
       "5928   Normal  \n",
       "6832   Normal  \n",
       "\n",
       "[12446 rows x 6 columns]"
      ]
     },
     "execution_count": 189,
     "metadata": {},
     "output_type": "execute_result"
    }
   ],
   "source": [
    "df_dados = pd.read_csv('kidneyData.csv',delimiter=',')\n",
    "\n",
    "df_dados = df_dados.sample(frac=1) # sample retorna uma amostra aleatória de itens de um eixo de objeto, com uma fracao de itens do eixo.\n",
    "\n",
    "#potencia = 2\n",
    "\n",
    "df_dados['diag'] = df_dados['diag'] # **potencia\n",
    "\n",
    "# df_dados['y2'] = df_dados['y']**potencia\n",
    "\n",
    "df_dados"
   ]
  },
  {
   "cell_type": "markdown",
   "metadata": {},
   "source": [
    "### INFORMAÇOES DOS DADOS"
   ]
  },
  {
   "cell_type": "code",
   "execution_count": 144,
   "metadata": {},
   "outputs": [
    {
     "name": "stdout",
     "output_type": "stream",
     "text": [
      "<class 'pandas.core.frame.DataFrame'>\n",
      "Int64Index: 12446 entries, 1435 to 1846\n",
      "Data columns (total 6 columns):\n",
      " #   Column      Non-Null Count  Dtype \n",
      "---  ------      --------------  ----- \n",
      " 0   Unnamed: 0  12446 non-null  int64 \n",
      " 1   image_id    12446 non-null  object\n",
      " 2   path        12446 non-null  object\n",
      " 3   diag        12446 non-null  object\n",
      " 4   target      12446 non-null  int64 \n",
      " 5   Class       12446 non-null  object\n",
      "dtypes: int64(2), object(4)\n",
      "memory usage: 680.6+ KB\n"
     ]
    }
   ],
   "source": [
    "df_dados.info()"
   ]
  },
  {
   "cell_type": "code",
   "execution_count": 220,
   "metadata": {},
   "outputs": [
    {
     "data": {
      "text/plain": [
       "Normal    5077\n",
       "Cyst      3709\n",
       "Tumor     2283\n",
       "Stone     1377\n",
       "Name: diag, dtype: int64"
      ]
     },
     "execution_count": 220,
     "metadata": {},
     "output_type": "execute_result"
    }
   ],
   "source": [
    "df_dados['diag'].value_counts() # value counts do total de tipos de imagens || Retorna uma série contendo contagens de valores exclusivos.\n",
    "#df_dados['image_id'].value_counts() # Value counts de diagnostico por imagem\n",
    "#df_dados['target'].value_counts() # Value counts de target\n",
    "#df_dados['Class'].value_counts() # Value counts de Class"
   ]
  },
  {
   "cell_type": "markdown",
   "metadata": {},
   "source": [
    "### VISUALIZANDO DADOS\n"
   ]
  },
  {
   "cell_type": "code",
   "execution_count": null,
   "metadata": {},
   "outputs": [],
   "source": [
    "df_dados_c1 = df_dados[df_dados['target'] == 'C1']\n",
    "#df_dados_c2 = df_dados[df_dados['target'] == 'C2']\n",
    "\n",
    "plt.scatter(df_dados_c1['target'].array,df_dados_c1['target'].array,color='blue')\n",
    "#plt.scatter(df_dados_c2['target'].array,df_dados_c2['target'].array,color='red')\n",
    "plt.title('Dados diagnosticos')\n",
    "plt.xlabel('target')\n",
    "#plt.ylabel('target')\n",
    "plt.show()"
   ]
  },
  {
   "cell_type": "code",
   "execution_count": 201,
   "metadata": {},
   "outputs": [
    {
     "data": {
      "image/png": "[encoded data removed]",
      "text/plain": [
       "<Figure size 432x288 with 1 Axes>"
      ]
     },
     "metadata": {
      "needs_background": "light"
     },
     "output_type": "display_data"
    }
   ],
   "source": [
    "x = [\"Normal\", \"Cyst\",\"Tumor\",\"Stone\"]\n",
    "y = [5077,3709,2283,1377]\n",
    "plt.title('Dados Diagnosticos')\n",
    "plt.plot(x, y)\n",
    "\n",
    "plt.show()"
   ]
  },
  {
   "cell_type": "code",
   "execution_count": 204,
   "metadata": {},
   "outputs": [
    {
     "data": {
      "image/png": "[encoded data removed]",
      "text/plain": [
       "<Figure size 432x288 with 1 Axes>"
      ]
     },
     "metadata": {
      "needs_background": "light"
     },
     "output_type": "display_data"
    }
   ],
   "source": [
    "plt.plot([5077, 3709, 2283, 1377], [0, 1, 2, 3], 'ro')\n",
    "plt.show()"
   ]
  },
  {
   "cell_type": "code",
   "execution_count": 215,
   "metadata": {},
   "outputs": [
    {
     "data": {
      "image/png": "[encoded data removed]",
      "text/plain": [
       "<Figure size 432x288 with 1 Axes>"
      ]
     },
     "metadata": {
      "needs_background": "light"
     },
     "output_type": "display_data"
    }
   ],
   "source": [
    "x = np.array([\"0 - Cyst\", \"1 - Normal\", \"2 - Stone\", \"3 - Tumor\"])\n",
    "y = np.array([5077, 3709, 2283, 1377])\n",
    "\n",
    "plt.xlabel('Classificacao por diagnostico')\n",
    "plt.ylabel('Quantidade de imagem')\n",
    "plt.bar(x,y)\n",
    "plt.show()"
   ]
  },
  {
   "cell_type": "markdown",
   "metadata": {},
   "source": [
    "### PREPARANDO DADOS"
   ]
  },
  {
   "cell_type": "code",
   "execution_count": 158,
   "metadata": {},
   "outputs": [
    {
     "data": {
      "text/html": [
       "<div>\n",
       "<style scoped>\n",
       "    .dataframe tbody tr th:only-of-type {\n",
       "        vertical-align: middle;\n",
       "    }\n",
       "\n",
       "    .dataframe tbody tr th {\n",
       "        vertical-align: top;\n",
       "    }\n",
       "\n",
       "    .dataframe thead th {\n",
       "        text-align: right;\n",
       "    }\n",
       "</style>\n",
       "<table border=\"1\" class=\"dataframe\">\n",
       "  <thead>\n",
       "    <tr style=\"text-align: right;\">\n",
       "      <th></th>\n",
       "      <th>Unnamed: 0</th>\n",
       "      <th>image_id</th>\n",
       "      <th>diag</th>\n",
       "      <th>target</th>\n",
       "      <th>Class</th>\n",
       "    </tr>\n",
       "  </thead>\n",
       "  <tbody>\n",
       "    <tr>\n",
       "      <th>1435</th>\n",
       "      <td>1435</td>\n",
       "      <td>Tumor- (340)</td>\n",
       "      <td>Tumor</td>\n",
       "      <td>9</td>\n",
       "      <td>Tumor</td>\n",
       "    </tr>\n",
       "    <tr>\n",
       "      <th>7171</th>\n",
       "      <td>7171</td>\n",
       "      <td>Normal- (2908)</td>\n",
       "      <td>Normal</td>\n",
       "      <td>1</td>\n",
       "      <td>Normal</td>\n",
       "    </tr>\n",
       "    <tr>\n",
       "      <th>9993</th>\n",
       "      <td>9993</td>\n",
       "      <td>Cyst- (368)</td>\n",
       "      <td>Cyst</td>\n",
       "      <td>0</td>\n",
       "      <td>Cyst</td>\n",
       "    </tr>\n",
       "    <tr>\n",
       "      <th>5455</th>\n",
       "      <td>5455</td>\n",
       "      <td>Normal- (1914)</td>\n",
       "      <td>Normal</td>\n",
       "      <td>1</td>\n",
       "      <td>Normal</td>\n",
       "    </tr>\n",
       "    <tr>\n",
       "      <th>3541</th>\n",
       "      <td>3541</td>\n",
       "      <td>Normal- (332)</td>\n",
       "      <td>Normal</td>\n",
       "      <td>1</td>\n",
       "      <td>Normal</td>\n",
       "    </tr>\n",
       "    <tr>\n",
       "      <th>...</th>\n",
       "      <td>...</td>\n",
       "      <td>...</td>\n",
       "      <td>...</td>\n",
       "      <td>...</td>\n",
       "      <td>...</td>\n",
       "    </tr>\n",
       "    <tr>\n",
       "      <th>10937</th>\n",
       "      <td>10937</td>\n",
       "      <td>Cyst- (1182)</td>\n",
       "      <td>Cyst</td>\n",
       "      <td>0</td>\n",
       "      <td>Cyst</td>\n",
       "    </tr>\n",
       "    <tr>\n",
       "      <th>6182</th>\n",
       "      <td>6182</td>\n",
       "      <td>Normal- (2692)</td>\n",
       "      <td>Normal</td>\n",
       "      <td>1</td>\n",
       "      <td>Normal</td>\n",
       "    </tr>\n",
       "    <tr>\n",
       "      <th>8977</th>\n",
       "      <td>8977</td>\n",
       "      <td>Cyst- (807)</td>\n",
       "      <td>Cyst</td>\n",
       "      <td>0</td>\n",
       "      <td>Cyst</td>\n",
       "    </tr>\n",
       "    <tr>\n",
       "      <th>4780</th>\n",
       "      <td>4780</td>\n",
       "      <td>Normal- (14)</td>\n",
       "      <td>Normal</td>\n",
       "      <td>1</td>\n",
       "      <td>Normal</td>\n",
       "    </tr>\n",
       "    <tr>\n",
       "      <th>1846</th>\n",
       "      <td>1846</td>\n",
       "      <td>Tumor- (1702)</td>\n",
       "      <td>Tumor</td>\n",
       "      <td>9</td>\n",
       "      <td>Tumor</td>\n",
       "    </tr>\n",
       "  </tbody>\n",
       "</table>\n",
       "<p>12446 rows × 5 columns</p>\n",
       "</div>"
      ],
      "text/plain": [
       "       Unnamed: 0        image_id    diag  target   Class\n",
       "1435         1435    Tumor- (340)   Tumor       9   Tumor\n",
       "7171         7171  Normal- (2908)  Normal       1  Normal\n",
       "9993         9993     Cyst- (368)    Cyst       0    Cyst\n",
       "5455         5455  Normal- (1914)  Normal       1  Normal\n",
       "3541         3541   Normal- (332)  Normal       1  Normal\n",
       "...           ...             ...     ...     ...     ...\n",
       "10937       10937    Cyst- (1182)    Cyst       0    Cyst\n",
       "6182         6182  Normal- (2692)  Normal       1  Normal\n",
       "8977         8977     Cyst- (807)    Cyst       0    Cyst\n",
       "4780         4780    Normal- (14)  Normal       1  Normal\n",
       "1846         1846   Tumor- (1702)   Tumor       9   Tumor\n",
       "\n",
       "[12446 rows x 5 columns]"
      ]
     },
     "execution_count": 158,
     "metadata": {},
     "output_type": "execute_result"
    }
   ],
   "source": [
    "target = df_dados['path'].array\n",
    "\n",
    "df_features = df_dados.drop(columns=['path'])\n",
    "df_features"
   ]
  },
  {
   "cell_type": "markdown",
   "metadata": {},
   "source": []
  },
  {
   "cell_type": "markdown",
   "metadata": {},
   "source": [
    "### MATRIZ DE CONFUSÃO"
   ]
  }
 ],
 "metadata": {
  "interpreter": {
   "hash": "31f2aee4e71d21fbe5cf8b01ff0e069b9275f58929596ceb00d14d90e3e16cd6"
  },
  "kernelspec": {
   "display_name": "Python 3.8.9 64-bit",
   "language": "python",
   "name": "python3"
  },
  "language_info": {
   "codemirror_mode": {
    "name": "ipython",
    "version": 3
   },
   "file_extension": ".py",
   "mimetype": "text/x-python",
   "name": "python",
   "nbconvert_exporter": "python",
   "pygments_lexer": "ipython3",
   "version": "3.9.7"
  },
  "orig_nbformat": 4
 },
 "nbformat": 4,
 "nbformat_minor": 2
}
