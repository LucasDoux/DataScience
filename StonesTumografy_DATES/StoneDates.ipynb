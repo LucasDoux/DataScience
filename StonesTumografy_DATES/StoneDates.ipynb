{
 "cells": [
  {
   "cell_type": "markdown",
   "metadata": {},
   "source": [
    "### IMPORTANDO BIBLIOTECAS"
   ]
  },
  {
   "cell_type": "code",
   "execution_count": 75,
   "metadata": {},
   "outputs": [],
   "source": [
    "from sklearn.linear_model import LogisticRegression, RidgeClassifierCV, Perceptron\n",
    "from sklearn.tree import DecisionTreeClassifier\n",
    "from sklearn.ensemble import RandomForestClassifier\n",
    "from sklearn.model_selection import train_test_split, cross_val_score, cross_val_predict\n",
    "from sklearn.metrics import confusion_matrix\n",
    "from sklearn.manifold import TSNE\n",
    "\n",
    "from mpl_toolkits.mplot3d import Axes3D\n",
    "\n",
    "import pandas as pd\n",
    "import matplotlib.pyplot as plt\n",
    "\n",
    "import numpy as np"
   ]
  },
  {
   "cell_type": "markdown",
   "metadata": {},
   "source": [
    "### CARREGANDO DADOS"
   ]
  },
  {
   "cell_type": "code",
   "execution_count": 162,
   "metadata": {},
   "outputs": [
    {
     "data": {
      "text/html": [
       "<div>\n",
       "<style scoped>\n",
       "    .dataframe tbody tr th:only-of-type {\n",
       "        vertical-align: middle;\n",
       "    }\n",
       "\n",
       "    .dataframe tbody tr th {\n",
       "        vertical-align: top;\n",
       "    }\n",
       "\n",
       "    .dataframe thead th {\n",
       "        text-align: right;\n",
       "    }\n",
       "</style>\n",
       "<table border=\"1\" class=\"dataframe\">\n",
       "  <thead>\n",
       "    <tr style=\"text-align: right;\">\n",
       "      <th></th>\n",
       "      <th>Unnamed: 0</th>\n",
       "      <th>image_id</th>\n",
       "      <th>path</th>\n",
       "      <th>diag</th>\n",
       "      <th>target</th>\n",
       "      <th>Class</th>\n",
       "    </tr>\n",
       "  </thead>\n",
       "  <tbody>\n",
       "    <tr>\n",
       "      <th>3324</th>\n",
       "      <td>3324</td>\n",
       "      <td>Normal- (4582)</td>\n",
       "      <td>/content/data/CT KIDNEY DATASET Normal, CYST, ...</td>\n",
       "      <td>Normal</td>\n",
       "      <td>1</td>\n",
       "      <td>Normal</td>\n",
       "    </tr>\n",
       "    <tr>\n",
       "      <th>12043</th>\n",
       "      <td>12043</td>\n",
       "      <td>Cyst- (1597)</td>\n",
       "      <td>/content/data/CT KIDNEY DATASET Normal, CYST, ...</td>\n",
       "      <td>Cyst</td>\n",
       "      <td>0</td>\n",
       "      <td>Cyst</td>\n",
       "    </tr>\n",
       "    <tr>\n",
       "      <th>4932</th>\n",
       "      <td>4932</td>\n",
       "      <td>Normal- (2381)</td>\n",
       "      <td>/content/data/CT KIDNEY DATASET Normal, CYST, ...</td>\n",
       "      <td>Normal</td>\n",
       "      <td>1</td>\n",
       "      <td>Normal</td>\n",
       "    </tr>\n",
       "    <tr>\n",
       "      <th>10831</th>\n",
       "      <td>10831</td>\n",
       "      <td>Cyst- (176)</td>\n",
       "      <td>/content/data/CT KIDNEY DATASET Normal, CYST, ...</td>\n",
       "      <td>Cyst</td>\n",
       "      <td>0</td>\n",
       "      <td>Cyst</td>\n",
       "    </tr>\n",
       "    <tr>\n",
       "      <th>6501</th>\n",
       "      <td>6501</td>\n",
       "      <td>Normal- (1821)</td>\n",
       "      <td>/content/data/CT KIDNEY DATASET Normal, CYST, ...</td>\n",
       "      <td>Normal</td>\n",
       "      <td>1</td>\n",
       "      <td>Normal</td>\n",
       "    </tr>\n",
       "    <tr>\n",
       "      <th>...</th>\n",
       "      <td>...</td>\n",
       "      <td>...</td>\n",
       "      <td>...</td>\n",
       "      <td>...</td>\n",
       "      <td>...</td>\n",
       "      <td>...</td>\n",
       "    </tr>\n",
       "    <tr>\n",
       "      <th>6309</th>\n",
       "      <td>6309</td>\n",
       "      <td>Normal- (1070)</td>\n",
       "      <td>/content/data/CT KIDNEY DATASET Normal, CYST, ...</td>\n",
       "      <td>Normal</td>\n",
       "      <td>1</td>\n",
       "      <td>Normal</td>\n",
       "    </tr>\n",
       "    <tr>\n",
       "      <th>8965</th>\n",
       "      <td>8965</td>\n",
       "      <td>Cyst- (860)</td>\n",
       "      <td>/content/data/CT KIDNEY DATASET Normal, CYST, ...</td>\n",
       "      <td>Cyst</td>\n",
       "      <td>0</td>\n",
       "      <td>Cyst</td>\n",
       "    </tr>\n",
       "    <tr>\n",
       "      <th>1826</th>\n",
       "      <td>1826</td>\n",
       "      <td>Tumor- (230)</td>\n",
       "      <td>/content/data/CT KIDNEY DATASET Normal, CYST, ...</td>\n",
       "      <td>Tumor</td>\n",
       "      <td>9</td>\n",
       "      <td>Tumor</td>\n",
       "    </tr>\n",
       "    <tr>\n",
       "      <th>7518</th>\n",
       "      <td>7518</td>\n",
       "      <td>Stone- (16)</td>\n",
       "      <td>/content/data/CT KIDNEY DATASET Normal, CYST, ...</td>\n",
       "      <td>Stone</td>\n",
       "      <td>4</td>\n",
       "      <td>Stone</td>\n",
       "    </tr>\n",
       "    <tr>\n",
       "      <th>5651</th>\n",
       "      <td>5651</td>\n",
       "      <td>Normal- (3976)</td>\n",
       "      <td>/content/data/CT KIDNEY DATASET Normal, CYST, ...</td>\n",
       "      <td>Normal</td>\n",
       "      <td>1</td>\n",
       "      <td>Normal</td>\n",
       "    </tr>\n",
       "  </tbody>\n",
       "</table>\n",
       "<p>12446 rows × 6 columns</p>\n",
       "</div>"
      ],
      "text/plain": [
       "       Unnamed: 0        image_id  \\\n",
       "3324         3324  Normal- (4582)   \n",
       "12043       12043    Cyst- (1597)   \n",
       "4932         4932  Normal- (2381)   \n",
       "10831       10831     Cyst- (176)   \n",
       "6501         6501  Normal- (1821)   \n",
       "...           ...             ...   \n",
       "6309         6309  Normal- (1070)   \n",
       "8965         8965     Cyst- (860)   \n",
       "1826         1826    Tumor- (230)   \n",
       "7518         7518     Stone- (16)   \n",
       "5651         5651  Normal- (3976)   \n",
       "\n",
       "                                                    path    diag  target  \\\n",
       "3324   /content/data/CT KIDNEY DATASET Normal, CYST, ...  Normal       1   \n",
       "12043  /content/data/CT KIDNEY DATASET Normal, CYST, ...    Cyst       0   \n",
       "4932   /content/data/CT KIDNEY DATASET Normal, CYST, ...  Normal       1   \n",
       "10831  /content/data/CT KIDNEY DATASET Normal, CYST, ...    Cyst       0   \n",
       "6501   /content/data/CT KIDNEY DATASET Normal, CYST, ...  Normal       1   \n",
       "...                                                  ...     ...     ...   \n",
       "6309   /content/data/CT KIDNEY DATASET Normal, CYST, ...  Normal       1   \n",
       "8965   /content/data/CT KIDNEY DATASET Normal, CYST, ...    Cyst       0   \n",
       "1826   /content/data/CT KIDNEY DATASET Normal, CYST, ...   Tumor       9   \n",
       "7518   /content/data/CT KIDNEY DATASET Normal, CYST, ...   Stone       4   \n",
       "5651   /content/data/CT KIDNEY DATASET Normal, CYST, ...  Normal       1   \n",
       "\n",
       "        Class  \n",
       "3324   Normal  \n",
       "12043    Cyst  \n",
       "4932   Normal  \n",
       "10831    Cyst  \n",
       "6501   Normal  \n",
       "...       ...  \n",
       "6309   Normal  \n",
       "8965     Cyst  \n",
       "1826    Tumor  \n",
       "7518    Stone  \n",
       "5651   Normal  \n",
       "\n",
       "[12446 rows x 6 columns]"
      ]
     },
     "execution_count": 162,
     "metadata": {},
     "output_type": "execute_result"
    }
   ],
   "source": [
    "df_dados = pd.read_csv('kidneyData.csv',delimiter=',')\n",
    "\n",
    "df_dados = df_dados.sample(frac=1) # sample retorna uma amostra aleatória de itens de um eixo de objeto, com uma fracao de itens do eixo.\n",
    "\n",
    "potencia = 2\n",
    "\n",
    "df_dados['target'] = df_dados['target']**potencia\n",
    "\n",
    "# df_dados['y2'] = df_dados['y']**potencia\n",
    "\n",
    "df_dados"
   ]
  },
  {
   "cell_type": "markdown",
   "metadata": {},
   "source": [
    "### INFORMAÇOES DOS DADOS"
   ]
  },
  {
   "cell_type": "code",
   "execution_count": 144,
   "metadata": {},
   "outputs": [
    {
     "name": "stdout",
     "output_type": "stream",
     "text": [
      "<class 'pandas.core.frame.DataFrame'>\n",
      "Int64Index: 12446 entries, 1435 to 1846\n",
      "Data columns (total 6 columns):\n",
      " #   Column      Non-Null Count  Dtype \n",
      "---  ------      --------------  ----- \n",
      " 0   Unnamed: 0  12446 non-null  int64 \n",
      " 1   image_id    12446 non-null  object\n",
      " 2   path        12446 non-null  object\n",
      " 3   diag        12446 non-null  object\n",
      " 4   target      12446 non-null  int64 \n",
      " 5   Class       12446 non-null  object\n",
      "dtypes: int64(2), object(4)\n",
      "memory usage: 680.6+ KB\n"
     ]
    }
   ],
   "source": [
    "df_dados.info()"
   ]
  },
  {
   "cell_type": "code",
   "execution_count": 170,
   "metadata": {},
   "outputs": [
    {
     "data": {
      "text/plain": [
       "Normal    5077\n",
       "Cyst      3709\n",
       "Tumor     2283\n",
       "Stone     1377\n",
       "Name: diag, dtype: int64"
      ]
     },
     "execution_count": 170,
     "metadata": {},
     "output_type": "execute_result"
    }
   ],
   "source": [
    "df_dados['diag'].value_counts() # value counts do total de tipos de imagens\n",
    "#df_dados['image_id'].value_counts() # Value counts de diagnostico por imagem\n",
    "#df_dados['target'].value_counts() # Value counts de target"
   ]
  },
  {
   "cell_type": "markdown",
   "metadata": {},
   "source": [
    "### VISUALIZANDO DADOS\n"
   ]
  },
  {
   "cell_type": "code",
   "execution_count": 169,
   "metadata": {},
   "outputs": [
    {
     "data": {
      "image/png": "[encoded data removed]",
      "text/plain": [
       "<Figure size 432x288 with 1 Axes>"
      ]
     },
     "metadata": {
      "needs_background": "light"
     },
     "output_type": "display_data"
    }
   ],
   "source": [
    "df_dados_c1 = df_dados[df_dados['image_id'] == 'C1']\n",
    "df_dados_c2 = df_dados[df_dados['diag'] == 'C2']\n",
    "\n",
    "plt.scatter(df_dados_c1['image_id'].array,df_dados_c1['image_id'].array,color='blue')\n",
    "plt.scatter(df_dados_c2['diag'].array,df_dados_c2['diag'].array,color='red')\n",
    "plt.title('Dados')\n",
    "plt.xlabel('image_id')\n",
    "plt.ylabel('diag')\n",
    "plt.show()"
   ]
  },
  {
   "cell_type": "markdown",
   "metadata": {},
   "source": [
    "### PREPARANDO DADOS"
   ]
  },
  {
   "cell_type": "code",
   "execution_count": 158,
   "metadata": {},
   "outputs": [
    {
     "data": {
      "text/html": [
       "<div>\n",
       "<style scoped>\n",
       "    .dataframe tbody tr th:only-of-type {\n",
       "        vertical-align: middle;\n",
       "    }\n",
       "\n",
       "    .dataframe tbody tr th {\n",
       "        vertical-align: top;\n",
       "    }\n",
       "\n",
       "    .dataframe thead th {\n",
       "        text-align: right;\n",
       "    }\n",
       "</style>\n",
       "<table border=\"1\" class=\"dataframe\">\n",
       "  <thead>\n",
       "    <tr style=\"text-align: right;\">\n",
       "      <th></th>\n",
       "      <th>Unnamed: 0</th>\n",
       "      <th>image_id</th>\n",
       "      <th>diag</th>\n",
       "      <th>target</th>\n",
       "      <th>Class</th>\n",
       "    </tr>\n",
       "  </thead>\n",
       "  <tbody>\n",
       "    <tr>\n",
       "      <th>1435</th>\n",
       "      <td>1435</td>\n",
       "      <td>Tumor- (340)</td>\n",
       "      <td>Tumor</td>\n",
       "      <td>9</td>\n",
       "      <td>Tumor</td>\n",
       "    </tr>\n",
       "    <tr>\n",
       "      <th>7171</th>\n",
       "      <td>7171</td>\n",
       "      <td>Normal- (2908)</td>\n",
       "      <td>Normal</td>\n",
       "      <td>1</td>\n",
       "      <td>Normal</td>\n",
       "    </tr>\n",
       "    <tr>\n",
       "      <th>9993</th>\n",
       "      <td>9993</td>\n",
       "      <td>Cyst- (368)</td>\n",
       "      <td>Cyst</td>\n",
       "      <td>0</td>\n",
       "      <td>Cyst</td>\n",
       "    </tr>\n",
       "    <tr>\n",
       "      <th>5455</th>\n",
       "      <td>5455</td>\n",
       "      <td>Normal- (1914)</td>\n",
       "      <td>Normal</td>\n",
       "      <td>1</td>\n",
       "      <td>Normal</td>\n",
       "    </tr>\n",
       "    <tr>\n",
       "      <th>3541</th>\n",
       "      <td>3541</td>\n",
       "      <td>Normal- (332)</td>\n",
       "      <td>Normal</td>\n",
       "      <td>1</td>\n",
       "      <td>Normal</td>\n",
       "    </tr>\n",
       "    <tr>\n",
       "      <th>...</th>\n",
       "      <td>...</td>\n",
       "      <td>...</td>\n",
       "      <td>...</td>\n",
       "      <td>...</td>\n",
       "      <td>...</td>\n",
       "    </tr>\n",
       "    <tr>\n",
       "      <th>10937</th>\n",
       "      <td>10937</td>\n",
       "      <td>Cyst- (1182)</td>\n",
       "      <td>Cyst</td>\n",
       "      <td>0</td>\n",
       "      <td>Cyst</td>\n",
       "    </tr>\n",
       "    <tr>\n",
       "      <th>6182</th>\n",
       "      <td>6182</td>\n",
       "      <td>Normal- (2692)</td>\n",
       "      <td>Normal</td>\n",
       "      <td>1</td>\n",
       "      <td>Normal</td>\n",
       "    </tr>\n",
       "    <tr>\n",
       "      <th>8977</th>\n",
       "      <td>8977</td>\n",
       "      <td>Cyst- (807)</td>\n",
       "      <td>Cyst</td>\n",
       "      <td>0</td>\n",
       "      <td>Cyst</td>\n",
       "    </tr>\n",
       "    <tr>\n",
       "      <th>4780</th>\n",
       "      <td>4780</td>\n",
       "      <td>Normal- (14)</td>\n",
       "      <td>Normal</td>\n",
       "      <td>1</td>\n",
       "      <td>Normal</td>\n",
       "    </tr>\n",
       "    <tr>\n",
       "      <th>1846</th>\n",
       "      <td>1846</td>\n",
       "      <td>Tumor- (1702)</td>\n",
       "      <td>Tumor</td>\n",
       "      <td>9</td>\n",
       "      <td>Tumor</td>\n",
       "    </tr>\n",
       "  </tbody>\n",
       "</table>\n",
       "<p>12446 rows × 5 columns</p>\n",
       "</div>"
      ],
      "text/plain": [
       "       Unnamed: 0        image_id    diag  target   Class\n",
       "1435         1435    Tumor- (340)   Tumor       9   Tumor\n",
       "7171         7171  Normal- (2908)  Normal       1  Normal\n",
       "9993         9993     Cyst- (368)    Cyst       0    Cyst\n",
       "5455         5455  Normal- (1914)  Normal       1  Normal\n",
       "3541         3541   Normal- (332)  Normal       1  Normal\n",
       "...           ...             ...     ...     ...     ...\n",
       "10937       10937    Cyst- (1182)    Cyst       0    Cyst\n",
       "6182         6182  Normal- (2692)  Normal       1  Normal\n",
       "8977         8977     Cyst- (807)    Cyst       0    Cyst\n",
       "4780         4780    Normal- (14)  Normal       1  Normal\n",
       "1846         1846   Tumor- (1702)   Tumor       9   Tumor\n",
       "\n",
       "[12446 rows x 5 columns]"
      ]
     },
     "execution_count": 158,
     "metadata": {},
     "output_type": "execute_result"
    }
   ],
   "source": [
    "target = df_dados['path'].array\n",
    "\n",
    "df_features = df_dados.drop(columns=['path'])\n",
    "df_features"
   ]
  },
  {
   "cell_type": "markdown",
   "metadata": {},
   "source": []
  },
  {
   "cell_type": "markdown",
   "metadata": {},
   "source": [
    "### MATRIZ DE CONFUSÃO"
   ]
  }
 ],
 "metadata": {
  "interpreter": {
   "hash": "31f2aee4e71d21fbe5cf8b01ff0e069b9275f58929596ceb00d14d90e3e16cd6"
  },
  "kernelspec": {
   "display_name": "Python 3.8.9 64-bit",
   "language": "python",
   "name": "python3"
  },
  "language_info": {
   "codemirror_mode": {
    "name": "ipython",
    "version": 3
   },
   "file_extension": ".py",
   "mimetype": "text/x-python",
   "name": "python",
   "nbconvert_exporter": "python",
   "pygments_lexer": "ipython3",
   "version": "3.9.7"
  },
  "orig_nbformat": 4
 },
 "nbformat": 4,
 "nbformat_minor": 2
}
